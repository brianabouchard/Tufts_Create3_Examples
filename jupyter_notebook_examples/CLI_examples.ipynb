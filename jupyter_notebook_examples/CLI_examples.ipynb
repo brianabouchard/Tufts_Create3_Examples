{
 "cells": [
  {
   "cell_type": "markdown",
   "id": "b019a60f",
   "metadata": {},
   "source": [
    "This file is an example batch file of how to control the iRobot™ Education's Create®3 Robot through the Command Line Interface (CLI) in terminal. \n",
    "\n",
    "There are examples of how to publish and subscribe to a topic as well as send actions to the robot in the cells below. In order to run this code in the command line from the Jupyter Notebook we must use an ```!``` before every line. \n",
    "\n",
    "To publish to a topic use\n",
    "```ros2 topic pub [Namespace/topic name] [message type] \"{[arguments]}\" ``` \n",
    "\n",
    "To find the list of topics & the message types use ```ros2 topic list -t```\n",
    "\n",
    "To subscribe to a topic use ```ros2 topic echo [Namespace/topic name]```\n",
    "\n",
    "To send an action to the robot use \n",
    "``` ros2 action send_goal [Namespace/action name] [action type] \"{[values]}\"```\n",
    "\n",
    "To find the list of actions & action types use ```ros2 action list -t```\n",
    "\n",
    "To edit parameters of the robot use\n",
    "```ros2 param set [node name] [paramter name] [value]```\n",
    "\n",
    "To find a list of paramters to edit use ``` ros2 param list```"
   ]
  },
  {
   "cell_type": "code",
   "execution_count": null,
   "id": "8122cc0c",
   "metadata": {},
   "outputs": [],
   "source": [
    "!ros2 action send_goal /JonSnow/undock irobot_create_msgs/action/Undock \"{}\"\n",
    "!ros2 topic pub /JonSnow/cmd_lightring irobot_create_msgs/msg/LightringLeds \"{override_system: true, leds: [{red: 255, green: 0, blue: 0}, {red: 0, green: 255, blue: 0}, {red: 0, green: 0, blue: 255}, {red: 255, green: 255, blue: 0}, {red: 255, green: 0, blue: 255}, {red: 0, green: 255, blue: 255}]}\" -1\n",
    "!ros2 #write code here to spin the robot in a circle \n",
    "!ros2 #write code here to release control of the LEDS back to the robot & turn the colors to white\n",
    "!ros2 #write code here to dock the robot"
   ]
  },
  {
   "cell_type": "code",
   "execution_count": null,
   "id": "7965a2f5",
   "metadata": {
    "scrolled": true
   },
   "outputs": [],
   "source": [
    "!ros2 action send_goal /JonSnow/undock irobot_create_msgs/action/Undock \"{}\"\n",
    "!ros2 topic pub /JonSnow/cmd_lightring irobot_create_msgs/msg/LightringLeds \"{override_system: true, leds: [{red: 255, green: 0, blue: 0}, {red: 0, green: 255, blue: 0}, {red: 0, green: 0, blue: 255}, {red: 255, green: 255, blue: 0}, {red: 255, green: 0, blue: 255}, {red: 0, green: 255, blue: 255}]}\" -1\n",
    "!ros2 action send_goal /JonSnow/rotate_angle irobot_create_msgs/action/RotateAngle \"{angle: 3.5,max_rotation_speed: 1.0}\"\n",
    "!ros2 topic pub /JonSnow/cmd_lightring irobot_create_msgs/msg/LightringLeds \"{override_system: false, leds: [{red: 255, green: 0, blue: 0}, {red: 0, green: 255, blue: 0}, {red: 0, green: 0, blue: 255}, {red: 255, green: 255, blue: 0}, {red: 255, green: 0, blue: 255}, {red: 0, green: 255, blue: 255}]}\" -1\n",
    "!ros2 action send_goal /JonSnow/dock irobot_create_msgs/action/DockServo \"{}\""
   ]
  }
 ],
 "metadata": {
  "kernelspec": {
   "display_name": "Python 3 (ipykernel)",
   "language": "python",
   "name": "python3"
  },
  "language_info": {
   "codemirror_mode": {
    "name": "ipython",
    "version": 3
   },
   "file_extension": ".py",
   "mimetype": "text/x-python",
   "name": "python",
   "nbconvert_exporter": "python",
   "pygments_lexer": "ipython3",
   "version": "3.8.10"
  }
 },
 "nbformat": 4,
 "nbformat_minor": 5
}
