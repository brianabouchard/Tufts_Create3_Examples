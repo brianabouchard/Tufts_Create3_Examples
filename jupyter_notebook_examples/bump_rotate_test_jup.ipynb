{
 "cells": [
  {
   "cell_type": "code",
   "execution_count": 1,
   "id": "3e240f2c",
   "metadata": {},
   "outputs": [
    {
     "name": "stdout",
     "output_type": "stream",
     "text": [
      "bump_right\n",
      "bump_right\n",
      "bump_right\n",
      "bump_right\n",
      "bump_right\n",
      "bump_right\n",
      "bump_right\n",
      "bump_right\n",
      "bump_right\n",
      "bump_right\n"
     ]
    },
    {
     "name": "stderr",
     "output_type": "stream",
     "text": [
      "[INFO] [1657043758.730915934] [bumper_turn]: Goal accepted :)\n",
      "[INFO] [1657043758.736582368] [bumper_turn]: Goal accepted :)\n",
      "[INFO] [1657043758.741262184] [bumper_turn]: Goal accepted :)\n",
      "[INFO] [1657043758.747990208] [bumper_turn]: Goal accepted :)\n",
      "[INFO] [1657043758.812455382] [bumper_turn]: Goal accepted :)\n",
      "[INFO] [1657043758.819121927] [bumper_turn]: Goal accepted :)\n",
      "[INFO] [1657043758.823804233] [bumper_turn]: Goal accepted :)\n",
      "[INFO] [1657043758.831065833] [bumper_turn]: Goal accepted :)\n",
      "[INFO] [1657043758.837860345] [bumper_turn]: Goal accepted :)\n",
      "[INFO] [1657043758.846524037] [bumper_turn]: Goal accepted :)\n",
      "[INFO] [1657043758.909877175] [bumper_turn]: Goal accepted :)\n",
      "[INFO] [1657043758.913518285] [bumper_turn]: Goal accepted :)\n",
      "[INFO] [1657043758.917165587] [bumper_turn]: Goal accepted :)\n",
      "[INFO] [1657043758.920699243] [bumper_turn]: Goal accepted :)\n"
     ]
    },
    {
     "name": "stdout",
     "output_type": "stream",
     "text": [
      "bump_right\n",
      "bump_right\n",
      "bump_right\n",
      "bump_right\n",
      "bump_right\n",
      "bump_right\n",
      "bump_right\n",
      "bump_right\n",
      "bump_right\n",
      "bump_right\n",
      "bump_right\n",
      "bump_right\n",
      "bump_right\n",
      "bump_right\n"
     ]
    },
    {
     "name": "stderr",
     "output_type": "stream",
     "text": [
      "[INFO] [1657043758.967585896] [bumper_turn]: Goal accepted :)\n",
      "[INFO] [1657043758.972608194] [bumper_turn]: Goal accepted :)\n",
      "[INFO] [1657043758.976928236] [bumper_turn]: Goal accepted :)\n",
      "[INFO] [1657043758.982423864] [bumper_turn]: Goal accepted :)\n",
      "[INFO] [1657043759.038893496] [bumper_turn]: Goal accepted :)\n",
      "[INFO] [1657043759.048081184] [bumper_turn]: Goal accepted :)\n",
      "[INFO] [1657043759.052445458] [bumper_turn]: Goal accepted :)\n",
      "[INFO] [1657043759.062861309] [bumper_turn]: Goal accepted :)\n",
      "[INFO] [1657043759.070369330] [bumper_turn]: Goal accepted :)\n",
      "[INFO] [1657043759.078518445] [bumper_turn]: Goal accepted :)\n",
      "[INFO] [1657043759.097198523] [bumper_turn]: Goal accepted :)\n",
      "[INFO] [1657043759.116119083] [bumper_turn]: Goal accepted :)\n"
     ]
    },
    {
     "name": "stdout",
     "output_type": "stream",
     "text": [
      "bump_right\n",
      "bump_right\n",
      "bump_left\n",
      "bump_left\n",
      "bump_left\n",
      "bump_left\n",
      "bump_left\n",
      "bump_left\n",
      "bump_left\n",
      "bump_left\n",
      "bump_left\n",
      "bump_left\n",
      "bump_left\n",
      "bump_left\n"
     ]
    },
    {
     "name": "stderr",
     "output_type": "stream",
     "text": [
      "[INFO] [1657043763.498411433] [bumper_turn]: Goal accepted :)\n",
      "[INFO] [1657043763.532137634] [bumper_turn]: Goal accepted :)\n",
      "[INFO] [1657043763.602603200] [bumper_turn]: Goal accepted :)\n",
      "[INFO] [1657043763.609556053] [bumper_turn]: Goal accepted :)\n",
      "[INFO] [1657043763.614549722] [bumper_turn]: Goal accepted :)\n",
      "[INFO] [1657043763.620932182] [bumper_turn]: Goal accepted :)\n",
      "[INFO] [1657043763.664937424] [bumper_turn]: Goal accepted :)\n",
      "[INFO] [1657043763.676548454] [bumper_turn]: Goal accepted :)\n",
      "[INFO] [1657043763.687200698] [bumper_turn]: Goal accepted :)\n",
      "[INFO] [1657043763.692512545] [bumper_turn]: Goal accepted :)\n",
      "[INFO] [1657043763.702224477] [bumper_turn]: Goal accepted :)\n"
     ]
    },
    {
     "name": "stdout",
     "output_type": "stream",
     "text": [
      "bump_left\n",
      "bump_left\n",
      "bump_left\n",
      "bump_left\n"
     ]
    },
    {
     "name": "stderr",
     "output_type": "stream",
     "text": [
      "[INFO] [1657043763.711443038] [bumper_turn]: Goal accepted :)\n",
      "[INFO] [1657043763.717542322] [bumper_turn]: Goal accepted :)\n",
      "[INFO] [1657043763.762048626] [bumper_turn]: Goal accepted :)\n",
      "[INFO] [1657043763.767152918] [bumper_turn]: Goal accepted :)\n",
      "[INFO] [1657043763.770963018] [bumper_turn]: Goal accepted :)\n"
     ]
    },
    {
     "name": "stdout",
     "output_type": "stream",
     "text": [
      "bump_left\n",
      "bump_front_left\n",
      "bump_front_left\n",
      "bump_front_left\n",
      "bump_front_left\n",
      "bump_front_left\n",
      "bump_front_left\n",
      "bump_front_left\n",
      "bump_front_left\n",
      "bump_front_left\n"
     ]
    },
    {
     "name": "stderr",
     "output_type": "stream",
     "text": [
      "[INFO] [1657043767.371779188] [bumper_turn]: Goal accepted :)\n",
      "[INFO] [1657043767.417092796] [bumper_turn]: Goal accepted :)\n",
      "[INFO] [1657043767.422614537] [bumper_turn]: Goal accepted :)\n",
      "[INFO] [1657043767.537184808] [bumper_turn]: Goal accepted :)\n",
      "[INFO] [1657043767.548549193] [bumper_turn]: Goal accepted :)\n",
      "[INFO] [1657043767.559933417] [bumper_turn]: Goal accepted :)\n"
     ]
    },
    {
     "name": "stdout",
     "output_type": "stream",
     "text": [
      "bump_front_left\n",
      "bump_front_left\n",
      "bump_front_left\n",
      "bump_front_left\n",
      "bump_front_left\n"
     ]
    },
    {
     "name": "stderr",
     "output_type": "stream",
     "text": [
      "[INFO] [1657043767.577694330] [bumper_turn]: Goal accepted :)\n",
      "[INFO] [1657043767.586553879] [bumper_turn]: Goal accepted :)\n",
      "[INFO] [1657043767.634798197] [bumper_turn]: Goal accepted :)\n",
      "[INFO] [1657043767.641429029] [bumper_turn]: Goal accepted :)\n",
      "[INFO] [1657043767.647714706] [bumper_turn]: Goal accepted :)\n",
      "[INFO] [1657043767.651843118] [bumper_turn]: Goal accepted :)\n",
      "[INFO] [1657043767.656501637] [bumper_turn]: Goal accepted :)\n",
      "[INFO] [1657043767.680792240] [bumper_turn]: Goal accepted :)\n",
      "[INFO] [1657043767.684931232] [bumper_turn]: Goal accepted :)\n"
     ]
    },
    {
     "name": "stdout",
     "output_type": "stream",
     "text": [
      "Caught keyboard interrupt\n",
      "Done\n"
     ]
    }
   ],
   "source": [
    "import sys\n",
    "import rclpy\n",
    "from rclpy.node import Node\n",
    "from rclpy.qos import qos_profile_sensor_data\n",
    "from irobot_create_msgs.msg import HazardDetectionVector\n",
    "\n",
    "from irobot_create_msgs.msg import LedColor\n",
    "from irobot_create_msgs.msg import LightringLeds\n",
    "\n",
    "from rclpy.action import ActionClient\n",
    "from irobot_create_msgs.action import RotateAngle\n",
    "\n",
    "\n",
    "class ColorPalette():\n",
    "    \"\"\" Helper Class to define frequently used colors\"\"\"\n",
    "\n",
    "    def __init__(self):\n",
    "        self.red = LedColor(red=255, green=0, blue=0)\n",
    "        self.green = LedColor(red=0, green=255, blue=0)\n",
    "        self.blue = LedColor(red=0, green=0, blue=255)\n",
    "        self.yellow = LedColor(red=255, green=255, blue=0)\n",
    "        self.pink = LedColor(red=255, green=0, blue=255)\n",
    "        self.cyan = LedColor(red=0, green=255, blue=255)\n",
    "        self.purple = LedColor(red=127, green=0, blue=255)\n",
    "        self.white = LedColor(red=255, green=255, blue=255)\n",
    "        self.grey = LedColor(red=189, green=189, blue=189)\n",
    "        self.tufts_blue = LedColor(red=98, green=166, blue=10)\n",
    "        self.tufts_brown = LedColor(red=94, green=75, blue=60)\n",
    "\n",
    "\n",
    "class BumperLEDTurn(Node):\n",
    "    def __init__(self):\n",
    "        super().__init__('bumper_turn')\n",
    "        self.cp = ColorPalette()\n",
    "\n",
    "        self.lights_publisher = self.create_publisher(\n",
    "            LightringLeds, '/JonSnow/cmd_lightring', 10)\n",
    "\n",
    "        self.subscription = self.create_subscription(\n",
    "            HazardDetectionVector, '/JonSnow/hazard_detection', self.listener_callback, qos_profile_sensor_data)\n",
    "\n",
    "        self._action_client = ActionClient(self, RotateAngle, '/JonSnow/rotate_angle')\n",
    "\n",
    "        # Initialize the structure of the message we are publishing to the LEDs\n",
    "        self.lightring = LightringLeds()\n",
    "        self.lightring.override_system = True\n",
    "\n",
    "    def listener_callback(self, msg):\n",
    "        for detection in msg.detections:\n",
    "            det = detection.header.frame_id\n",
    "            lightring = LightringLeds()\n",
    "            lightring.override_system = True\n",
    "\n",
    "            if det != \"base_link\":\n",
    "                print(det)\n",
    "                if det == \"bump_right\":\n",
    "                    light_list = [self.cp.blue, self.cp.blue, self.cp.blue,\n",
    "                                  self.cp.blue, self.cp.blue, self.cp.blue]\n",
    "                    self.send_goal(angle=-1.57)\n",
    "                elif det == \"bump_left\":\n",
    "                    light_list = [self.cp.red, self.cp.red, self.cp.red,\n",
    "                                  self.cp.red, self.cp.red, self.cp.red]\n",
    "                    self.send_goal(angle=1.57)\n",
    "                elif det == \"bump_front_left\":\n",
    "                    light_list = [self.cp.pink, self.cp.pink, self.cp.pink,\n",
    "                                  self.cp.pink, self.cp.pink, self.cp.pink]\n",
    "                    self.send_goal(angle=1.57)\n",
    "                elif det == \"bump_front_right\":\n",
    "                    light_list = [self.cp.cyan, self.cp.cyan, self.cp.cyan,\n",
    "                                  self.cp.cyan, self.cp.cyan, self.cp.cyan]\n",
    "                    self.send_goal(angle=-1.57)\n",
    "                elif det == \"bump_front_center\":\n",
    "                    light_list = [self.cp.white, self.cp.white, self.cp.white,\n",
    "                                  self.cp.white, self.cp.white, self.cp.white]\n",
    "\n",
    "                current_time = self.get_clock().now()\n",
    "\n",
    "                self.lightring.header.stamp = current_time.to_msg()\n",
    "                self.lightring.leds = light_list\n",
    "                \n",
    "                self.lights_publisher.publish(self.lightring)\n",
    "\n",
    "    def send_goal(self, angle=1.57, max_rotation_speed=0.5):\n",
    "        goal_msg = RotateAngle.Goal()\n",
    "        goal_msg.angle = angle\n",
    "        goal_msg.max_rotation_speed = max_rotation_speed\n",
    "\n",
    "        self._action_client.wait_for_server()\n",
    "\n",
    "        self._send_goal_future = self._action_client.send_goal_async(goal_msg)\n",
    "\n",
    "        self._send_goal_future.add_done_callback(self.goal_response_callback)\n",
    "\n",
    "    def goal_response_callback(self, future):\n",
    "        goal_handle = future.result()\n",
    "        if not goal_handle.accepted:\n",
    "            self.get_logger().info('Goal rejected :(')\n",
    "            return\n",
    "\n",
    "        self.get_logger().info('Goal accepted :)')\n",
    "\n",
    "\n",
    "def main(args=None):\n",
    "    rclpy.init(args=args)\n",
    "\n",
    "    dance = BumperLEDTurn()\n",
    "    try:\n",
    "        rclpy.spin(dance)\n",
    "    except KeyboardInterrupt:\n",
    "        print('Caught keyboard interrupt')\n",
    "    except BaseException:\n",
    "        print('Exception:', file=sys.stderr)\n",
    "    finally:\n",
    "        print(\"Done\")\n",
    "        rclpy.shutdown()\n",
    "\n",
    "\n",
    "if __name__ == '__main__':\n",
    "    main()"
   ]
  }
 ],
 "metadata": {
  "kernelspec": {
   "display_name": "Python 3 (ipykernel)",
   "language": "python",
   "name": "python3"
  },
  "language_info": {
   "codemirror_mode": {
    "name": "ipython",
    "version": 3
   },
   "file_extension": ".py",
   "mimetype": "text/x-python",
   "name": "python",
   "nbconvert_exporter": "python",
   "pygments_lexer": "ipython3",
   "version": "3.8.10"
  }
 },
 "nbformat": 4,
 "nbformat_minor": 5
}
